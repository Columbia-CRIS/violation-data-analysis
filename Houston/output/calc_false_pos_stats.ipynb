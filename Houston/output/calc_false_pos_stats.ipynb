{
 "cells": [
  {
   "cell_type": "code",
   "execution_count": 15,
   "metadata": {
    "collapsed": true
   },
   "outputs": [],
   "source": [
    "import rpy2\n",
    "from rpy2.robjects import r, pandas2ri\n",
    "import pandas as pd\n",
    "\n",
    "def fp_stats(file_path):\n",
    "    if file_path[-4:] == '.csv':\n",
    "        df = pd.DataFrame.from_csv(file_path)\n",
    "    else:\n",
    "        pandas2ri.activate()\n",
    "        rf=r['load'](file_path)\n",
    "        df = pd.DataFrame(data=r['in_sample_result'])\n",
    "\n",
    "    df_bad = df.loc[df['SEVERE'] == 1]\n",
    "    bad_mines = set(df_bad['MINE_ID'])\n",
    "    all_mines = set(df['MINE_ID'])\n",
    "    good_mines = all_mines - bad_mines\n",
    "    \n",
    "    bad, post, early = 0, 0, 0\n",
    "    for mine in good_mines:\n",
    "        df_mine = df.loc[df['MINE_ID'] == mine]\n",
    "        bad += sum(df_mine['PREDICTION'])\n",
    "\n",
    "    for mine in bad_mines:\n",
    "        df_mine = df.loc[df['MINE_ID'] == mine]\n",
    "        real = list(df_mine['SEVERE'])\n",
    "        pred = list(df_mine['PREDICTION'])\n",
    "        for i in range(len(pred)):\n",
    "            if pred[i] == 1 and real[i] == 0:\n",
    "                if sum(real[i:i+4]) > 0:\n",
    "                    early += 1\n",
    "                if sum(real[i-4:i]) > 0:\n",
    "                    post += 1\n",
    "                if sum(real[i:i+4]) == 0 and sum(real[i-4:i]) == 0:\n",
    "                    bad += 1  \n",
    "                    \n",
    "    return {'bad':bad, 'post':post, 'early':early}"
   ]
  },
  {
   "cell_type": "code",
   "execution_count": null,
   "metadata": {
    "collapsed": true
   },
   "outputs": [],
   "source": []
  },
  {
   "cell_type": "code",
   "execution_count": 9,
   "metadata": {
    "scrolled": true
   },
   "outputs": [
    {
     "name": "stdout",
     "output_type": "stream",
     "text": [
      "{'bad': 72951, 'post': 6453, 'early': 2833}\n"
     ]
    }
   ],
   "source": [
    "print(fp_stats('./Result_clogit.RData'))"
   ]
  },
  {
   "cell_type": "code",
   "execution_count": 16,
   "metadata": {},
   "outputs": [
    {
     "name": "stdout",
     "output_type": "stream",
     "text": [
      "{'bad': 72562, 'post': 3654, 'early': 2686}\n"
     ]
    }
   ],
   "source": [
    "print(fp_stats('./outputResults.csv'))"
   ]
  }
 ],
 "metadata": {
  "kernelspec": {
   "display_name": "Python 3",
   "language": "python",
   "name": "python3"
  },
  "language_info": {
   "codemirror_mode": {
    "name": "ipython",
    "version": 3
   },
   "file_extension": ".py",
   "mimetype": "text/x-python",
   "name": "python",
   "nbconvert_exporter": "python",
   "pygments_lexer": "ipython3",
   "version": "3.6.2"
  }
 },
 "nbformat": 4,
 "nbformat_minor": 2
}
